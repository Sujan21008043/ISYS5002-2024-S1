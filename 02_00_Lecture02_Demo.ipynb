{
  "nbformat": 4,
  "nbformat_minor": 0,
  "metadata": {
    "colab": {
      "provenance": [],
      "authorship_tag": "ABX9TyMmvWj467fdY7+xANQA/9CK",
      "include_colab_link": true
    },
    "kernelspec": {
      "name": "python3",
      "display_name": "Python 3"
    },
    "language_info": {
      "name": "python"
    }
  },
  "cells": [
    {
      "cell_type": "markdown",
      "metadata": {
        "id": "view-in-github",
        "colab_type": "text"
      },
      "source": [
        "<a href=\"https://colab.research.google.com/github/isys5002-itp/ISYS5002-2024-S1/blob/main/02_00_Lecture02_Demo.ipynb\" target=\"_parent\"><img src=\"https://colab.research.google.com/assets/colab-badge.svg\" alt=\"Open In Colab\"/></a>"
      ]
    },
    {
      "cell_type": "markdown",
      "source": [
        "## Even or Odd"
      ],
      "metadata": {
        "id": "DXnnsmEC4A3r"
      }
    },
    {
      "cell_type": "markdown",
      "source": [
        "# Problem Solving Methodology\n",
        "\n",
        "## Task: When given a number, you are asked to inspect it and determine whether it is an odd or even number."
      ],
      "metadata": {
        "id": "3vQNP84Hb2zy"
      }
    },
    {
      "cell_type": "markdown",
      "source": [
        "## Problem statement:\n",
        "Create a program that takes a number and determines whether the given number is even or odd. The program should display a message indicating the result, stating whether the input number is even or odd.\n",
        "\n"
      ],
      "metadata": {
        "id": "i7SHXiMQdF6a"
      }
    },
    {
      "cell_type": "markdown",
      "source": [
        "### Input and Output\n",
        "\n",
        "**Input:** A numerical value (integer or floating-point) representing the number to be checked.\n",
        "\n",
        "\n",
        "**Output:** A message indicating whether the input number is even or odd.\n",
        "\n",
        "\n",
        "\n"
      ],
      "metadata": {
        "id": "3XfNNBWGdR7h"
      }
    },
    {
      "cell_type": "markdown",
      "source": [
        "### Work through an example by hand\n",
        "\n",
        "To determine if a number is even, check if the number is divisible by 2 without leaving any remainder.\n",
        "\n",
        "*Example 1:*\n",
        "\n",
        "```\n",
        "Input: 7\n",
        "\n",
        "Process: 7 / 2 = 3 remainder 1\n",
        "Process: 7 % 2 == 1\n",
        "\n",
        "Output: \"7 is odd.\"\n",
        "```\n",
        "\n",
        "\n",
        "*Example 2:*\n",
        "\n",
        "\n",
        "```\n",
        "Input: 14\n",
        "\n",
        "Process: 14 / 2 = 7 remainder 0\n",
        "Process: 14 % 2 == 0\n",
        "\n",
        "Output: \"14 is even.\"\n",
        "```\n",
        "\n"
      ],
      "metadata": {
        "id": "JIPHc8jTd99w"
      }
    },
    {
      "cell_type": "markdown",
      "source": [
        "### Algorithm/Pseudocode:\n",
        "\n",
        "```\n",
        "Get a numerical value as input\n",
        "\n",
        "If num is divisible by 2 with no remainder (i.e., num % 2 == 0), then it's even.\n",
        "> Print \"num is even.\"\n",
        "\n",
        "If num is not divisible by 2 (i.e., num % 2 != 0), then it's odd.\n",
        "> Print \"num is odd.\"\n",
        "\n",
        "display the result message\n",
        "```\n",
        "\n"
      ],
      "metadata": {
        "id": "ID_ko8B8dVjp"
      }
    },
    {
      "cell_type": "code",
      "source": [],
      "metadata": {
        "id": "TBb68Iq9ckz5"
      },
      "execution_count": null,
      "outputs": []
    }
  ]
}