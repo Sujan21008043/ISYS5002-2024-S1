{
  "nbformat": 4,
  "nbformat_minor": 0,
  "metadata": {
    "colab": {
      "provenance": [],
      "authorship_tag": "ABX9TyNxZHvA+0eniXo5vlF/ki2j",
      "include_colab_link": true
    },
    "kernelspec": {
      "name": "python3",
      "display_name": "Python 3"
    },
    "language_info": {
      "name": "python"
    }
  },
  "cells": [
    {
      "cell_type": "markdown",
      "metadata": {
        "id": "view-in-github",
        "colab_type": "text"
      },
      "source": [
        "<a href=\"https://colab.research.google.com/github/Sujan21008043/ISYS5002-2024-S1/blob/main/Report.ipynb\" target=\"_parent\"><img src=\"https://colab.research.google.com/assets/colab-badge.svg\" alt=\"Open In Colab\"/></a>"
      ]
    },
    {
      "cell_type": "code",
      "source": [],
      "metadata": {
        "id": "UOIUCESnFkb-"
      },
      "execution_count": null,
      "outputs": []
    },
    {
      "cell_type": "code",
      "execution_count": 1,
      "metadata": {
        "colab": {
          "base_uri": "https://localhost:8080/"
        },
        "id": "OxYFevBm1W7F",
        "outputId": "0eb22c78-1714-4a0c-ba7c-76822a920af8"
      },
      "outputs": [
        {
          "name": "stdout",
          "output_type": "stream",
          "text": [
            "enter month: januart\n",
            "enter lectricity usage: 2\n",
            "enter gas usage: 2.4\n",
            "enter water usage: 2\n"
          ]
        }
      ],
      "source": [
        "# allowing user enter the month, electricity, gas and water usage and assigning to variables/storagae\n",
        "month = input('enter month: ')\n",
        "electricity = float(input('enter lectricity usage: ')) #float function enables to accept floating number\n",
        "gas = float(input('enter gas usage: '))\n",
        "water = float(input('enter water usage: '))"
      ]
    },
    {
      "cell_type": "code",
      "source": [
        "for i in range (12): # for allowing user to enter the details usage of electricity, gas and water for 12 months\n",
        "  month = input('enter month: ')\n",
        "  electricity = float(input('enter lectricity usage: ')) #float function enables to accept floating number\n",
        "  gas = float(input('enter gas usage: '))\n",
        "  water = float(input('enter water usage: '))"
      ],
      "metadata": {
        "colab": {
          "base_uri": "https://localhost:8080/"
        },
        "id": "kBjOsdJnFy7U",
        "outputId": "2ac49a70-e87d-4195-ce9f-d287d456ee80"
      },
      "execution_count": 5,
      "outputs": [
        {
          "name": "stdout",
          "output_type": "stream",
          "text": [
            "enter month: jan\n",
            "enter lectricity usage: 2\n",
            "enter gas usage: 3\n",
            "enter water usage: 4\n",
            "enter month: feb\n",
            "enter lectricity usage: 4\n",
            "enter gas usage: 5\n",
            "enter water usage: 6\n"
          ]
        }
      ]
    },
    {
      "cell_type": "code",
      "source": [
        "jan\n"
      ],
      "metadata": {
        "id": "cewIekEkH54E"
      },
      "execution_count": null,
      "outputs": []
    }
  ]
}