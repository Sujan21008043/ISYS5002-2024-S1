{
  "nbformat": 4,
  "nbformat_minor": 0,
  "metadata": {
    "colab": {
      "provenance": [],
      "authorship_tag": "ABX9TyOyl2dWgnPgBwmUjY6xQXMX",
      "include_colab_link": true
    },
    "kernelspec": {
      "name": "python3",
      "display_name": "Python 3"
    },
    "language_info": {
      "name": "python"
    }
  },
  "cells": [
    {
      "cell_type": "markdown",
      "metadata": {
        "id": "view-in-github",
        "colab_type": "text"
      },
      "source": [
        "<a href=\"https://colab.research.google.com/github/Sujan21008043/ISYS5002-2024-S1/blob/main/01_02_Omllette.ipynb\" target=\"_parent\"><img src=\"https://colab.research.google.com/assets/colab-badge.svg\" alt=\"Open In Colab\"/></a>"
      ]
    },
    {
      "cell_type": "code",
      "source": [
        "number = 3\n",
        "e = 'eggs'\n",
        "print('Crack ' + str(number) + ' ' + e + ' into bowl')\n"
      ],
      "metadata": {
        "colab": {
          "base_uri": "https://localhost:8080/"
        },
        "id": "G07COt4mWiER",
        "outputId": "6c9c3d8b-aadc-44a7-fbc9-a4bb9c8e1c64"
      },
      "execution_count": 17,
      "outputs": [
        {
          "output_type": "stream",
          "name": "stdout",
          "text": [
            "Crack 3 eggs into bowl\n"
          ]
        }
      ]
    },
    {
      "cell_type": "code",
      "source": [
        "fully_mixed = input( 'are eggs fully mixed? ' )\n",
        "if fully_mixed == 'yes':\n",
        "  print('heat saute pan')\n",
        "if fully_mixed == 'no':\n",
        "  print('stir eggs')"
      ],
      "metadata": {
        "colab": {
          "base_uri": "https://localhost:8080/"
        },
        "id": "KiJgP1YUW-by",
        "outputId": "8ddbcddc-2dce-49aa-bbe7-354ffb164771"
      },
      "execution_count": 19,
      "outputs": [
        {
          "output_type": "stream",
          "name": "stdout",
          "text": [
            "are eggs fully mixed? yes\n",
            "heat saute pan\n"
          ]
        }
      ]
    },
    {
      "cell_type": "code",
      "source": [
        "heat_saute_pan = input(' heat saute pan? ')\n",
        "if heat_saute_pan == 'yes':\n",
        "  print('transfer egg to pan')\n",
        "if heat_saute_pan == 'no':\n",
        "  print('heat it more')\n"
      ],
      "metadata": {
        "colab": {
          "base_uri": "https://localhost:8080/"
        },
        "id": "pFsPuDVZXJ-N",
        "outputId": "bfc4047c-b070-44b1-95df-3bcaee48c20d"
      },
      "execution_count": 9,
      "outputs": [
        {
          "output_type": "stream",
          "name": "stdout",
          "text": [
            " heat saute pan? yes\n",
            "transfer egg to pan\n"
          ]
        }
      ]
    },
    {
      "cell_type": "code",
      "source": [
        "remove_pan = input('cooked?')\n",
        "if remove_pan == 'yes':\n",
        "  print('transfer egg to plate')"
      ],
      "metadata": {
        "colab": {
          "base_uri": "https://localhost:8080/"
        },
        "id": "fAP-VgW6qylL",
        "outputId": "5b247373-a192-4461-a71b-99c19e036ce5"
      },
      "execution_count": 10,
      "outputs": [
        {
          "output_type": "stream",
          "name": "stdout",
          "text": [
            "cooked?yes\n",
            "transfer egg to plate\n"
          ]
        }
      ]
    },
    {
      "cell_type": "code",
      "source": [
        "want_cheese = input('want cheese on top? ')"
      ],
      "metadata": {
        "colab": {
          "base_uri": "https://localhost:8080/"
        },
        "id": "zTa7Mu5Vrm3a",
        "outputId": "8853f9e9-fa1d-4733-daa8-3bcb718b90bf"
      },
      "execution_count": 12,
      "outputs": [
        {
          "name": "stdout",
          "output_type": "stream",
          "text": [
            "want cheese on top? yes\n"
          ]
        }
      ]
    },
    {
      "cell_type": "code",
      "source": [
        "if want_cheese == 'no':\n",
        "  serve = 'omlete without cheese'\n",
        "  print(serve)"
      ],
      "metadata": {
        "id": "eiLB7JX4wZJQ"
      },
      "execution_count": 16,
      "outputs": []
    },
    {
      "cell_type": "code",
      "source": [
        "if want_cheese == 'yes':\n",
        "  serve = 'omlete with cheese on top'\n",
        "  print(serve)\n"
      ],
      "metadata": {
        "colab": {
          "base_uri": "https://localhost:8080/"
        },
        "id": "ghZhvb5Oryec",
        "outputId": "82bd579c-b8fa-4d9f-9046-98cf3a7862bf"
      },
      "execution_count": 15,
      "outputs": [
        {
          "output_type": "stream",
          "name": "stdout",
          "text": [
            "omlete with cheese on top\n"
          ]
        }
      ]
    },
    {
      "cell_type": "code",
      "source": [],
      "metadata": {
        "id": "wIu5hta2sUPj"
      },
      "execution_count": null,
      "outputs": []
    }
  ]
}