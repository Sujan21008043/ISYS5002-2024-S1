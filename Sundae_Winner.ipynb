{
  "nbformat": 4,
  "nbformat_minor": 0,
  "metadata": {
    "colab": {
      "provenance": [],
      "authorship_tag": "ABX9TyOUL+VEDdzQIO3Ea7R6lKCr",
      "include_colab_link": true
    },
    "kernelspec": {
      "name": "python3",
      "display_name": "Python 3"
    },
    "language_info": {
      "name": "python"
    }
  },
  "cells": [
    {
      "cell_type": "markdown",
      "metadata": {
        "id": "view-in-github",
        "colab_type": "text"
      },
      "source": [
        "<a href=\"https://colab.research.google.com/github/isys5002-itp/ISYS5002-2024-S1/blob/main/Sundae_Winner.ipynb\" target=\"_parent\"><img src=\"https://colab.research.google.com/assets/colab-badge.svg\" alt=\"Open In Colab\"/></a>"
      ]
    },
    {
      "cell_type": "code",
      "source": [
        "import random # imports the random module which have the choice method"
      ],
      "metadata": {
        "id": "muu6hjQJP0Qx"
      },
      "execution_count": null,
      "outputs": []
    },
    {
      "cell_type": "code",
      "execution_count": null,
      "metadata": {
        "id": "aCrTaqpBHdBh"
      },
      "outputs": [],
      "source": [
        "# creates a list of names\n",
        "# assign the list to a variable name (storage conatiner) to hold the list items\n",
        "customers = ['Jimmy', 'Kim', 'John', 'Stacie']"
      ]
    },
    {
      "cell_type": "code",
      "source": [
        "# choose randomly a name from the list - customer's list\n",
        "# assigns the chosen name (value) a variable (storage) named winner\n",
        "\n",
        "winner = random.choice(customers)"
      ],
      "metadata": {
        "id": "nP4yl3OOP4Tk"
      },
      "execution_count": null,
      "outputs": []
    },
    {
      "cell_type": "code",
      "source": [
        "# assign the value 'vanilla' into new variable named 'flavor'\n",
        "\n",
        "flavor = 'vanilla'"
      ],
      "metadata": {
        "id": "I1bnzTBXP97Z"
      },
      "execution_count": null,
      "outputs": []
    },
    {
      "cell_type": "code",
      "source": [
        "# display/print the statement to the screen/user\n",
        "\n",
        "print('Congratulations ' + winner +\n",
        " ' you have won an ice cream sundae!')"
      ],
      "metadata": {
        "colab": {
          "base_uri": "https://localhost:8080/"
        },
        "id": "J6l9wG4NQBO2",
        "outputId": "3bc395a1-0f3c-462f-da61-2c882dc3e498"
      },
      "execution_count": null,
      "outputs": [
        {
          "output_type": "stream",
          "name": "stdout",
          "text": [
            "Congratulations Stacie you have won an ice cream sundae!\n"
          ]
        }
      ]
    },
    {
      "cell_type": "code",
      "source": [
        "flavor"
      ],
      "metadata": {
        "colab": {
          "base_uri": "https://localhost:8080/",
          "height": 35
        },
        "id": "JmCtc8H_SWWp",
        "outputId": "0fd4e26b-cf4d-4b5b-d462-728bfbb675e5"
      },
      "execution_count": null,
      "outputs": [
        {
          "output_type": "execute_result",
          "data": {
            "text/plain": [
              "'vanilla'"
            ],
            "application/vnd.google.colaboratory.intrinsic+json": {
              "type": "string"
            }
          },
          "metadata": {},
          "execution_count": 11
        }
      ]
    },
    {
      "cell_type": "code",
      "source": [
        "flavor = 'chocolate'"
      ],
      "metadata": {
        "id": "yLwqH53sSclz"
      },
      "execution_count": null,
      "outputs": []
    },
    {
      "cell_type": "code",
      "source": [
        "flavor"
      ],
      "metadata": {
        "id": "WdQPEqKmSghW",
        "outputId": "e7ecfac8-a027-4b05-d772-f1ba0125a130",
        "colab": {
          "base_uri": "https://localhost:8080/",
          "height": 35
        }
      },
      "execution_count": null,
      "outputs": [
        {
          "output_type": "execute_result",
          "data": {
            "text/plain": [
              "'chocolate'"
            ],
            "application/vnd.google.colaboratory.intrinsic+json": {
              "type": "string"
            }
          },
          "metadata": {},
          "execution_count": 14
        }
      ]
    }
  ]
}